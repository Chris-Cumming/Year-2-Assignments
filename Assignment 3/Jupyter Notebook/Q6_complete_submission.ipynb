{
 "cells": [
  {
   "cell_type": "markdown",
   "id": "dd86ef97",
   "metadata": {},
   "source": [
    "Before you turn this problem in, make sure everything runs as expected. First, **restart the kernel** (in the menubar, select Kernel$\\rightarrow$Restart) and then **run all cells** (in the menubar, select Cell$\\rightarrow$Run All).\n",
    "\n",
    "Make sure you fill in any place that says `YOUR CODE HERE` or \"YOUR ANSWER HERE\".\n",
    "\n",
    "Do not edit or insert code into the test cells as all you insert will be overwritten by the automated testing code."
   ]
  },
  {
   "cell_type": "markdown",
   "id": "638e087e",
   "metadata": {},
   "source": [
    "---"
   ]
  },
  {
   "cell_type": "markdown",
   "id": "c6aad814",
   "metadata": {
    "deletable": false,
    "editable": false,
    "nbgrader": {
     "cell_type": "markdown",
     "checksum": "8e7c5fde8247a250dacebe739a99f9cc",
     "grade": false,
     "grade_id": "cell-86219f382bf419a4",
     "locked": true,
     "schema_version": 3,
     "solution": false,
     "task": false
    }
   },
   "source": [
    "**Question 6**: The code in the cell below has errors. There are errors in style and errors preventing the code to run as intended. \n",
    "\n",
    "Your **task** is to find all mistakes, remove them, make the code function properly such that it presents a correct figure at the end and achieves a 10 out of 10 marks from the style checker. \n",
    "\n",
    "It is strongly recommended to start the exercise by copying the entire code to a separate python file and examine it in Spyder. The code checking should then improve your style mark.\n",
    "\n",
    "**Note A**: Leave the function names unchanged. Some may be assumed in tests. Constant values as given are all correct.\n",
    "\n",
    "**Note B**: Make sure you use the `pylintrc` file from Moodle for style checking (keep it in the same folder as your python file in Spyder so that style checking in Spyder automatically uses it as configuration file).\n",
    "\n",
    "**Note C**: Copy your final solution back into the cell below so that the tests can run."
   ]
  },
  {
   "cell_type": "code",
   "execution_count": 1,
   "id": "9e7d9a5f",
   "metadata": {
    "deletable": false,
    "nbgrader": {
     "cell_type": "code",
     "checksum": "7a5d25ac0ae8e55809d323051ff83a57",
     "grade": false,
     "grade_id": "Q6Code",
     "locked": false,
     "schema_version": 3,
     "solution": true,
     "task": false
    }
   },
   "outputs": [
    {
     "data": {
      "image/png": "[encoded data removed]",
      "text/plain": [
       "<Figure size 432x288 with 1 Axes>"
      ]
     },
     "metadata": {
      "needs_background": "light"
     },
     "output_type": "display_data"
    }
   ],
   "source": [
    "#Import modules\n",
    "from random import gauss\n",
    "import numpy as np\n",
    "import matplotlib.pyplot as plt\n",
    "\n",
    "#Find value of gravity\n",
    "def gravity(height, time):\n",
    "    'Returns value of gravity from a certain height and time'\n",
    "    #First mistake found here, SUVAT equation rearranged wrong\n",
    "    #Also needed to add functionality to get rid of large values for g\n",
    "    grav = 2 * height / time**2\n",
    "    if grav > 29:\n",
    "        return 0\n",
    "    else:\n",
    "        return grav\n",
    "#Finding variation in gravity\n",
    "def fallsim(attempts, height, height_error, time, time_error):\n",
    "    'Simulates the free fall of the object many times'\n",
    "    collector = ()\n",
    "    for _ in range(attempts): # no counter variable needed\n",
    "        distance = gauss(height, height_error)\n",
    "        watch    = gauss(time, time_error)\n",
    "        #collector.append(gravity(distance, watch))\n",
    "        collector += (gravity(distance, watch), )\n",
    "        #print(collector)\n",
    "    #Need to get rid of all the values of g that are 0 as this is unphysical\n",
    "    array_g_values = np.array(collector)\n",
    "    final_values = np.delete(array_g_values, np.where(array_g_values == 0))\n",
    "    return final_values\n",
    "\n",
    "#Defining constants and plotting the histogram\n",
    "pisa = 58 # [m]\n",
    "falltime = 3.4  # [s] in standard Earth gravity\n",
    "herror = 0.5 # [m] uncertainty from where to drop to the floor\n",
    "werror = 1.0 # [s] watches were rather uncertain\n",
    "measurements = fallsim(10000, pisa, herror, falltime, werror)\n",
    "plt.hist(measurements, 21)\n",
    "plt.title('Gravity constant measurements', fontsize = 16)\n",
    "plt.ylabel('measurements', fontsize = 14)\n",
    "plt.xlabel('g [ms$^{-2}$]', fontsize = 14)\n",
    "plt.show()\n"
   ]
  },
  {
   "cell_type": "code",
   "execution_count": 2,
   "id": "187cf89c",
   "metadata": {
    "deletable": false,
    "editable": false,
    "nbgrader": {
     "cell_type": "code",
     "checksum": "3070f583db1ec4a42df19741c2d77d65",
     "grade": true,
     "grade_id": "Q6testA",
     "locked": true,
     "points": 1,
     "schema_version": 3,
     "solution": false,
     "task": false
    }
   },
   "outputs": [],
   "source": [
    "# test\n",
    "assert (gravity(58, 3.4)>10.0 and gravity(58, 3.4)<10.1)"
   ]
  },
  {
   "cell_type": "code",
   "execution_count": 3,
   "id": "37a7d090",
   "metadata": {
    "deletable": false,
    "editable": false,
    "nbgrader": {
     "cell_type": "code",
     "checksum": "5941b40aca63f62ad47e0ef83035d094",
     "grade": true,
     "grade_id": "Q6testB",
     "locked": true,
     "points": 1,
     "schema_version": 3,
     "solution": false,
     "task": false
    }
   },
   "outputs": [],
   "source": [
    "# test\n",
    "arr = np.array(fallsim(100, pisa, herror, falltime, werror))\n",
    "assert (np.mean(arr)>9.0 and np.mean(arr)<12.0)"
   ]
  },
  {
   "cell_type": "markdown",
   "id": "e99ad8a7",
   "metadata": {
    "deletable": false,
    "editable": false,
    "nbgrader": {
     "cell_type": "markdown",
     "checksum": "f903703df161035f0ece7a87217d29a3",
     "grade": false,
     "grade_id": "cell-94ceab08895b9867",
     "locked": true,
     "schema_version": 3,
     "solution": false,
     "task": false
    }
   },
   "source": [
    "### Tests - 2 marks; Style - 1 mark; Plot - 1 mark"
   ]
  }
 ],
 "metadata": {
  "kernelspec": {
   "display_name": "Python 3",
   "language": "python",
   "name": "python3"
  },
  "language_info": {
   "codemirror_mode": {
    "name": "ipython",
    "version": 3
   },
   "file_extension": ".py",
   "mimetype": "text/x-python",
   "name": "python",
   "nbconvert_exporter": "python",
   "pygments_lexer": "ipython3",
   "version": "3.8.5"
  }
 },
 "nbformat": 4,
 "nbformat_minor": 5
}
