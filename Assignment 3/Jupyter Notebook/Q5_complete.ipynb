{
 "cells": [
  {
   "cell_type": "markdown",
   "metadata": {},
   "source": [
    "Before you turn this problem in, make sure everything runs as expected. First, **restart the kernel** (in the menubar, select Kernel$\\rightarrow$Restart) and then **run all cells** (in the menubar, select Cell$\\rightarrow$Run All).\n",
    "\n",
    "Make sure you fill in any place that says `YOUR CODE HERE` or \"YOUR ANSWER HERE\".\n",
    "\n",
    "Do not edit or insert code into the test cells as all you insert will be overwritten by the automated testing code."
   ]
  },
  {
   "cell_type": "markdown",
   "metadata": {},
   "source": [
    "---"
   ]
  },
  {
   "cell_type": "markdown",
   "metadata": {
    "deletable": false,
    "editable": false,
    "nbgrader": {
     "cell_type": "markdown",
     "checksum": "4f5a7774e477fa104c842a0d864140a3",
     "grade": false,
     "grade_id": "cell-0a1d6cc6c5df1815",
     "locked": true,
     "schema_version": 3,
     "solution": false
    }
   },
   "source": [
    "**Question 5**: The Maxwell (or Maxwell-Boltzmann) distribution gives the distribution of speeds of molecules in thermal equilibrium as given by statistical mechanics. The distribution function is given as $$p(v)=\\sqrt{\\frac{2}{\\pi}}\\,\\frac{v^{2}\\,\\exp\\left(-\\frac{v^{2}}{2\\,a^{2}}\\right)}{a^{3}}$$ with speed $v$ and $$a=\\sqrt{\\frac{k\\,T}{m}}$$ and $k$ the Boltzmann constant, $T$ the temperature and $m$ the atomic mass of the molecules. \n",
    "\n",
    "Consider the SciPy function `scipy.stats.maxwell` which permits to draw random speed values from a Maxwell distribution. Given a value for the parameter $a$, the speed distribution can be used as `sample = maxwell.rvs(scale=a, size=1000)` to obtain a thousand random speeds from the Maxwell distribution with the correct temperature and molecule mass. Use the `scipy.constants` library to define the molecule mass in atomic mass units in kg and obtain the correct Boltzmann constant. Use SI units throughout.\n",
    "\n",
    "**Task**: **(a)** Write a function `samples(T1, T2, mass)` which draws two samples of 1000 random speed values each from the Maxwell distribution with temperatures $T_{1}$ and $T_{2}$ and atomic mass in units of kg as input. \n",
    "\n",
    "The first sample should represent Helium gas molecule speeds at room temperature ($T_{1}=290\\,$K), the second cold Helium liquid at $T_{2}=4.2\\,$K. Use the `scipy.constants` library to define the Helium molecule mass at 4 atomic mass units in kg.\n",
    "\n",
    "**(b)** Write a function `doCollision(ncoll, sample1, sample2)` which takes the number of simulated collisions as input as well as the two prepared samples. For each collision simulation create a random pair from members of both samples and determine the absolute **energy** difference. Add half the energy difference to the slower molecule and subtract half the energy difference from the faster molecule so that in the end both have the same energy. Then obtain the speed of the individual molecules from their energy and change it in the speed sample array accordingly for both and collide the next pair. Merge the distributions into one and return the combined distribution.\n",
    "\n",
    "Simulate $10^{4}$ collisions between the hot and cold Helium and print the final temperature value, calculated from the final mean value. The mean value of the Maxwell distribution in the notation from above is given as $$\\mu=2\\,a\\,\\sqrt{\\frac{2}{\\pi}}.$$ Plot the merged speed distribution histogram (20 bins are recommended) with appropriate axes labels and title."
   ]
  },
  {
   "cell_type": "code",
   "execution_count": 1,
   "metadata": {
    "deletable": false,
    "nbgrader": {
     "cell_type": "code",
     "checksum": "e02683f2697c7e393bea5a40d0fbc7ca",
     "grade": false,
     "grade_id": "Q5Code",
     "locked": false,
     "schema_version": 3,
     "solution": true
    }
   },
   "outputs": [
    {
     "data": {
      "image/png": "[encoded data removed]",
      "text/plain": [
       "<Figure size 432x288 with 1 Axes>"
      ]
     },
     "metadata": {
      "needs_background": "light"
     },
     "output_type": "display_data"
    }
   ],
   "source": [
    "#Import Modules\n",
    "\n",
    "import random as rnd\n",
    "import numpy as np\n",
    "from scipy import stats\n",
    "from scipy import constants\n",
    "import matplotlib.pyplot as plt\n",
    "\n",
    "#Defining key constants\n",
    "k = constants.k\n",
    "\n",
    "#print(atomic_mass)\n",
    "helium_mass = 4.0 * constants.u\n",
    "\n",
    "\n",
    "def samples(T1, T2, mass):\n",
    "    'Creating 2 data sets for 2 different temperatures of helium molecules'\n",
    "    #Defining a from maxwell distribution\n",
    "    a_T1 = np.sqrt((k*T1)/(mass))\n",
    "    a_T2 = np.sqrt((k*T2)/(mass))\n",
    "    #Generating the maxwell distribution of speeds\n",
    "    sample_T1 = stats.maxwell.rvs(scale = a_T1, size = 1000)\n",
    "    sample_T2 = stats.maxwell.rvs(scale = a_T2, size = 1000)\n",
    "    #print(np.mean(sample_T1))\n",
    "    #print(np.mean(sample_T2))\n",
    "    #print(sample_T1)\n",
    "    #print(sample_T2)\n",
    "    return sample_T1, sample_T2\n",
    "\n",
    "def doCollision(ncoll, sample1, sample2):\n",
    "    'Finding speeds of random particles, then their difference in energy and adjusting accordingly'\n",
    "    for i in range(ncoll):\n",
    "        #For T1\n",
    "        index1 = rnd.randint(0, 999)\n",
    "        random_speed_T1 = sample1[index1]\n",
    "        #print(random_speed_T1)\n",
    "        #For T2\n",
    "        index2 = rnd.randint(0, 999)\n",
    "        random_speed_T2 = sample2[index2]\n",
    "        #print(random_speed_T2)\n",
    "        #Finding energies and then energy difference\n",
    "        energy_T1 = 0.5 * helium_mass * (random_speed_T1)**2\n",
    "        energy_T2 = 0.5 * helium_mass * (random_speed_T2)**2\n",
    "        energy_difference = abs(energy_T1 - energy_T2)\n",
    "        #print(energy_difference)\n",
    "        #Adjusting energies\n",
    "        if energy_T1 < energy_T2:\n",
    "            new_energy_T1 = energy_T1 + (0.5 * energy_difference)\n",
    "            new_energy_T2 = energy_T2 - (0.5 * energy_difference)\n",
    "        else:\n",
    "            new_energy_T1 = energy_T1 - (0.5 * energy_difference)\n",
    "            new_energy_T2 = energy_T2 + (0.5 * energy_difference)\n",
    "        #Calculating new speeds\n",
    "        new_speed_T1 = np.sqrt((2 * new_energy_T1)/helium_mass)\n",
    "        new_speed_T2 = np.sqrt((2 * new_energy_T2)/helium_mass)\n",
    "        #print(new_speed_T1)\n",
    "        #print(new_speed_T2)\n",
    "        #Rewriting original speed array\n",
    "        sample1[index1] = new_speed_T1\n",
    "        sample2[index2] = new_speed_T2\n",
    "    total_distribution = np.append(sample1, sample2)\n",
    "    #print(total_distribution)\n",
    "    return total_distribution\n",
    "\n",
    "def final_temperature(full_sample):\n",
    "    'Calculates the final temperature of the combined samples'\n",
    "    mean_final_distribution = np.mean(full_sample)\n",
    "    sqrt_temp = ((mean_final_distribution)/2) * np.sqrt((np.pi)/2) * np.sqrt((helium_mass)/k)\n",
    "    temp = (sqrt_temp)**2\n",
    "    return temp\n",
    "\n",
    "\n",
    "#Collecting samples from samples function\n",
    "both_samples = samples(290, 4.2, helium_mass)\n",
    "#print(samples[0])\n",
    "#print(samples[1])\n",
    "\n",
    "#Getting total distriubution\n",
    "full_distribution = doCollision(10000, both_samples[0], both_samples[1])\n",
    "#Getting final tempertuare of combined samples\n",
    "final_temp = final_temperature(full_distribution)\n",
    "#print(final_temp)\n",
    "\n",
    "plt.xlabel(\"Speeds\")\n",
    "plt.ylabel(\"Speed Density\")\n",
    "plt.title(\"Speed distribution of 2 samples of helium mixing(290K and 4.2K)\")\n",
    "plt.hist(full_distribution, bins = 20)\n",
    "plt.show()\n"
   ]
  },
  {
   "cell_type": "code",
   "execution_count": 2,
   "metadata": {
    "deletable": false,
    "editable": false,
    "nbgrader": {
     "cell_type": "code",
     "checksum": "d560c0015f982d44154ef1765547048f",
     "grade": true,
     "grade_id": "Q5TestA",
     "locked": true,
     "points": 1,
     "schema_version": 3,
     "solution": false
    }
   },
   "outputs": [],
   "source": [
    "# Test cell\n",
    "import scipy.constants as pc\n",
    "m = 4.0*pc.u\n",
    "wh, ch = samples(290, 4.2, m)\n",
    "assert (len(wh)==1000), 'wrong sample size'"
   ]
  },
  {
   "cell_type": "code",
   "execution_count": 3,
   "metadata": {
    "deletable": false,
    "editable": false,
    "nbgrader": {
     "cell_type": "code",
     "checksum": "e940a8a1373d5e2a7df29dc1e61fda6d",
     "grade": true,
     "grade_id": "Q5TestB",
     "locked": true,
     "points": 1,
     "schema_version": 3,
     "solution": false
    }
   },
   "outputs": [],
   "source": [
    "# Test cell\n",
    "import numpy as np\n",
    "assert (np.mean(wh)>1200.0 and np.mean(wh)<1300.0), 'wrong room temperature helium distribution'\n",
    "assert (np.mean(ch)>130.0 and np.mean(ch)<150.0), 'wrong cold temperature helium distribution'"
   ]
  },
  {
   "cell_type": "code",
   "execution_count": 4,
   "metadata": {
    "deletable": false,
    "editable": false,
    "nbgrader": {
     "cell_type": "code",
     "checksum": "14904135b8ac95207fd56360cf45061b",
     "grade": true,
     "grade_id": "Q5TestC",
     "locked": true,
     "points": 1,
     "schema_version": 3,
     "solution": false
    }
   },
   "outputs": [],
   "source": [
    "# Test cell\n",
    "from math import sqrt, pi\n",
    "final = doCollision(10000, wh, ch)\n",
    "T = (np.mean(final)/2.0*sqrt(pi/2))**2 * m / pc.k\n",
    "assert (T>165.0 and T<190.0), 'wrong final temperature'"
   ]
  },
  {
   "cell_type": "markdown",
   "metadata": {
    "deletable": false,
    "editable": false,
    "nbgrader": {
     "cell_type": "markdown",
     "checksum": "5e532da1bea1ae6ef3d4b1582e54d3d9",
     "grade": false,
     "grade_id": "cell-a1d21a0b40415b41",
     "locked": true,
     "schema_version": 3,
     "solution": false
    }
   },
   "source": [
    "### Tests 3 marks; Style 1 mark; Plot - 2 marks"
   ]
  }
 ],
 "metadata": {
  "kernelspec": {
   "display_name": "Python 3",
   "language": "python",
   "name": "python3"
  },
  "language_info": {
   "codemirror_mode": {
    "name": "ipython",
    "version": 3
   },
   "file_extension": ".py",
   "mimetype": "text/x-python",
   "name": "python",
   "nbconvert_exporter": "python",
   "pygments_lexer": "ipython3",
   "version": "3.8.5"
  }
 },
 "nbformat": 4,
 "nbformat_minor": 4
}
