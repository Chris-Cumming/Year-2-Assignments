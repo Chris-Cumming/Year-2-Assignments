{
 "cells": [
  {
   "cell_type": "markdown",
   "id": "0e48707d",
   "metadata": {},
   "source": [
    "Before you turn this problem in, make sure everything runs as expected. First, **restart the kernel** (in the menubar, select Kernel$\\rightarrow$Restart) and then **run all cells** (in the menubar, select Cell$\\rightarrow$Run All).\n",
    "\n",
    "Make sure you fill in any place that says `YOUR CODE HERE` or \"YOUR ANSWER HERE\".\n",
    "\n",
    "Do not edit or insert code into the test cells as all you insert will be overwritten by the automated testing code."
   ]
  },
  {
   "cell_type": "markdown",
   "id": "ba1740aa",
   "metadata": {},
   "source": [
    "---"
   ]
  },
  {
   "cell_type": "markdown",
   "id": "2819aaae",
   "metadata": {
    "deletable": false,
    "editable": false,
    "nbgrader": {
     "cell_type": "markdown",
     "checksum": "992c077ea42d1e7bde4c2e9be40b354f",
     "grade": false,
     "grade_id": "cell-3de21a49b8a57042",
     "locked": true,
     "schema_version": 3,
     "solution": false,
     "task": false
    }
   },
   "source": [
    "**Question 4**: The code in the cell below has errors. There are errors in style and errors preventing the code to run as intended. \n",
    "\n",
    "Your **task** is to find all mistakes, remove them, make the code function properly such that it presents a correct figure at the end and achieves a 10 out of 10 marks from the style checker. \n",
    "\n",
    "It is strongly recommended to start the exercise by copying the entire code to a separate python file and examine it in Spyder. The code checking should then improve your style mark.\n",
    "\n",
    "**Note A**: Leave the function names unchanged. Some may be assumed in tests. Constant values as given are all correct.\n",
    "\n",
    "**Note B**: Make sure you use the `pylintrc` file from Moodle for style checking (keep it in the same folder as your python file in Spyder so that style checking in Spyder automatically uses it as configuration file).\n",
    "\n",
    "**Note C**: Copy your final solution back into the cell below so that the tests can run."
   ]
  },
  {
   "cell_type": "code",
   "execution_count": null,
   "id": "d7b740e1",
   "metadata": {
    "deletable": false,
    "nbgrader": {
     "cell_type": "code",
     "checksum": "aa78a01653bebe9ff797ce6b8c7e4f4c",
     "grade": false,
     "grade_id": "Q4Code",
     "locked": false,
     "schema_version": 3,
     "solution": true,
     "task": false
    }
   },
   "outputs": [],
   "source": [
    "'''\n",
    "Use moving average filter for a simple but noisy pulse\n",
    "\n",
    "This example contains programming faults!\n",
    "'''\n",
    "\n",
    "import numpy as np\n",
    "import matplotlib.pyplot as plt\n",
    "\n",
    "def moving_average(inputdata, filterorder):\n",
    "    ''' implement a moving average filter of odd order\n",
    "        inputdata: to be filtered, NumPy array\n",
    "        filterorder: integer number as filter order, \n",
    "                     must be made odd if even, i.e. even+1.\n",
    "    '''\n",
    "    \n",
    "    response = 1 / filterorder  # a float normalization factor\n",
    "    output = []\n",
    "\n",
    "    # padding the input for averaging data borders\n",
    "    leftextension = np.flip(inputdata[:filterorder / 2], 0)\n",
    "    rightextension = np.flip(inputdata[-filterorder // 2 + 1:], 0)\n",
    "    padded = np.concatenate([leftextension, inputdata, rightextension])\n",
    "\n",
    "    output.append(np.sum(padded[:filterorder]) * response) # first average\n",
    "    n = filterorder / 2 + 1\n",
    "    for idx in range(n, len(inputdata) + n - 1):\n",
    "        term = output[-1]  # previous\n",
    "        term += padded[idx + filterorder // 2] * response\n",
    "        term -= padded[idx - filterorder // 2 - 1] * response\n",
    "        output.append(term)\n",
    "    return np.array(output)\n",
    "\n",
    "def simple_pulse(length, amplitude, risetime, decaytime):\n",
    "    time = np.linspace(0, length, length + 1)\n",
    "    onset = 0.3 * length # start 30% into the length\n",
    "    pulse = np.exp(-(time - onset)/risetime) - np.exp(-(time - onset)/decaytime)\n",
    "    pulse[np.where(time < onset)] = 0.0 # not defined before onset time, set 0\n",
    "    return -amplitude * pulse\n",
    "\n",
    "# make the data\n",
    "amp = 10.0\n",
    "risetime = 3.0\n",
    "decaytime = 300.0\n",
    "data = simple_pulse(2000, amp, risetime, decaytime)\n",
    "noisy = data + 0.4 * amp * np.random.normal(size = len(data))\n",
    "\n",
    "# filter and plot\n",
    "smooth = moving_average(noisy, 12)\n",
    "plt.plot(noisy)\n",
    "plt.plot(smooth, 'r-')\n",
    "plt.title('pulse with noise and smoothing')\n",
    "plt.ylabel('amplitude', fontsize = 14)\n",
    "plt.xlabel('samples', fontsize = 14)\n",
    "plt.show()\n"
   ]
  },
  {
   "cell_type": "code",
   "execution_count": null,
   "id": "f0818d7b",
   "metadata": {
    "deletable": false,
    "editable": false,
    "nbgrader": {
     "cell_type": "code",
     "checksum": "c295b21d9b16ed6704c8d52f0cfcd152",
     "grade": true,
     "grade_id": "Q4test",
     "locked": true,
     "points": 1,
     "schema_version": 3,
     "solution": false,
     "task": false
    }
   },
   "outputs": [],
   "source": [
    "# test\n",
    "data = np.array([0.0, 0.0, 1.0, 2.0, 1.0, 0.0, 0.0])\n",
    "smooth = moving_average(data, 2)\n",
    "assert (smooth[2]==1.0)"
   ]
  },
  {
   "cell_type": "markdown",
   "id": "4c87c9f3",
   "metadata": {
    "deletable": false,
    "editable": false,
    "nbgrader": {
     "cell_type": "markdown",
     "checksum": "4941cf9d17386ee95dcae01d7f8db69f",
     "grade": false,
     "grade_id": "cell-b84d3c5c6844479c",
     "locked": true,
     "schema_version": 3,
     "solution": false,
     "task": false
    }
   },
   "source": [
    "### Tests - 1 mark; Style - 1 mark; Plot - 1 mark"
   ]
  }
 ],
 "metadata": {
  "kernelspec": {
   "display_name": "Python 3",
   "language": "python",
   "name": "python3"
  },
  "language_info": {
   "codemirror_mode": {
    "name": "ipython",
    "version": 3
   },
   "file_extension": ".py",
   "mimetype": "text/x-python",
   "name": "python",
   "nbconvert_exporter": "python",
   "pygments_lexer": "ipython3",
   "version": "3.8.5"
  }
 },
 "nbformat": 4,
 "nbformat_minor": 5
}
